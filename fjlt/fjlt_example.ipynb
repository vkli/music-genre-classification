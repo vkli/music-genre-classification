{
 "cells": [
  {
   "cell_type": "markdown",
   "metadata": {},
   "source": [
    "# FJLT, Various k = reduced dimension\n",
    "# Details see fjlt.m"
   ]
  },
  {
   "cell_type": "markdown",
   "metadata": {},
   "source": [
    "## k >= 7670\n",
    "## k < d = 33060\n",
    "## fastest for k = 2^13 = 8192"
   ]
  },
  {
   "cell_type": "markdown",
   "metadata": {},
   "source": [
    "# NOTE: delete srft_wisdom from folder"
   ]
  },
  {
   "cell_type": "code",
   "execution_count": 2,
   "metadata": {},
   "outputs": [
    {
     "data": {
      "text/plain": [
       "473.1681458950043"
      ]
     },
     "execution_count": 2,
     "metadata": {},
     "output_type": "execute_result"
    }
   ],
   "source": [
    "import time\n",
    "start = time.time()\n",
    "from openpyxl import Workbook\n",
    "from openpyxl import load_workbook\n",
    "wb=load_workbook('X.xlsx')\n",
    "ws=wb.active\n",
    "d=ws.max_row-1\n",
    "n=ws.max_column\n",
    "import numpy\n",
    "X=numpy.zeros((d,n))\n",
    "i=0\n",
    "j=0\n",
    "while i<d:\n",
    "    while j<n:\n",
    "        X[i][j]=ws.cell(row=i+2,column=j+1).value\n",
    "        j+=1\n",
    "    i+=1\n",
    "seconds_elapsed1 = (time.time() - start)\n",
    "seconds_elapsed1\n",
    "# X is dxn matrix of n songs/vectors of d dimensions each"
   ]
  },
  {
   "cell_type": "code",
   "execution_count": 5,
   "metadata": {},
   "outputs": [
    {
     "name": "stdout",
     "output_type": "stream",
     "text": [
      "wisdom file srft_wisdom not found, starting new file.\n",
      "b'(fftw-3.3.5 fftw_wisdom #x4be12fff #x7b2df9b2 #xa5975329 #x385b0041\\n  (fftw_codelet_r2cf_3 0 #x40 #x40 #x0 #xf37562a5 #x0215bb89 #x9a393656 #xaf50e821)\\n  (fftw_codelet_hf_20 0 #x40 #x40 #x0 #x8417d9eb #x33044136 #x4c51016f #xebf548a2)\\n  (fftw_codelet_r2cf_20 0 #x40 #x40 #x0 #xc850c57a #x45e38b29 #x61f78c0a #x9c663410)\\n  (fftw_codelet_hf_3 0 #x40 #x40 #x0 #x1c2c0e33 #xd25d1adf #xdad99443 #x6abe915c)\\n  (fftw_rdft_generic_register 0 #x40 #x40 #x0 #x0b04d629 #x0296a629 #x35e47c7c #x57162e40)\\n  (fftw_rdft_buffered_register 0 #x1040 #x1040 #x0 #xaa37cfd8 #xaf450f73 #xbbdb0ca2 #x8889c2d5)\\n  (fftw_rdft_vrank_geq1_register 0 #x40 #x40 #x0 #x072d7c07 #xf828df6d #x8df07fc0 #xd699f277)\\n  (fftw_rdft_vrank_geq1_register 0 #x40 #x40 #x0 #xfa4c68c7 #xc6e12dc5 #xaa2cd0bb #xd1848ce3)\\n  (fftw_rdft_generic_register 0 #x40 #x40 #x0 #x2c17d6b6 #x1c5fb848 #xa05823d7 #x9c2ae855)\\n  (fftw_rdft_vrank_geq1_register 0 #x40 #x40 #x0 #xb0118543 #xa9d3b266 #x3d8926ec #x9c020173)\\n  (fftw_reodft010e_r2hc_register 0 #x1040 #x1040 #x0 #x77b3bd3c #xac8d833f #xd503d536 #x64e40ec0)\\n  (fftw_rdft_vrank_geq1_register 0 #x40 #x40 #x0 #x64fae67c #x240f2c07 #x2e8c27a8 #x34bb2a58)\\n  (fftw_rdft_nop_register 0 #x40 #x40 #x0 #xd0702255 #xe76a9ab3 #x5398ff07 #x60ee718e)\\n  (fftw_hc2hc_generic_register 0 #x40 #x40 #x0 #x2ebafef2 #x83de4d41 #x1edbc5f9 #xb0405a31)\\n  (fftw_codelet_r2cfII_3 0 #x40 #x40 #x0 #xe588b749 #x38d92a2a #xc042a349 #x4e31c2d7)\\n  (fftw_rdft_vrank_geq1_register 0 #x40 #x40 #x0 #x71709097 #xbbb5a38e #xdb73bde7 #x7088c6d5)\\n  (fftw_rdft_rank0_register 0 #x1040 #x1040 #x0 #xbe41cfaa #xb286bf61 #x12bfe21e #x218c249d)\\n  (fftw_rdft_vrank_geq1_register 0 #x40 #x40 #x0 #x9583b4be #x6dce9500 #xd4eff269 #xb790d7b0)\\n  (fftw_rdft_nop_register 0 #x1040 #x1040 #x0 #x9e7124f3 #x33a05b09 #x2e1037fb #xafb4783d)\\n)\\n'\n",
      "[[-0.49026333 -0.80326586 -0.26133973 ..., -2.56772841 -2.35227106\n",
      "  -2.33374334]\n",
      " [-0.5759323  -0.94362911 -0.30700643 ..., -3.0164151  -2.76330859\n",
      "  -2.74154331]\n",
      " [-0.03913172 -0.06411489 -0.02085955 ..., -0.20495034 -0.18775302\n",
      "  -0.18627418]\n",
      " ..., \n",
      " [-0.12715901 -0.2083421  -0.06778337 ..., -0.66598863 -0.61010572\n",
      "  -0.60530021]\n",
      " [-0.55825836 -0.91467148 -0.29758516 ..., -2.92384881 -2.6785095\n",
      "  -2.65741215]\n",
      " [-0.23335708 -0.38234101 -0.12439331 ..., -1.22219545 -1.11964138\n",
      "  -1.1108225 ]]\n"
     ]
    },
    {
     "data": {
      "text/plain": [
       "1.845479965209961"
      ]
     },
     "execution_count": 5,
     "metadata": {},
     "output_type": "execute_result"
    }
   ],
   "source": [
    "start = time.time()\n",
    "k=7670\n",
    "from fjlt.SubsampledRandomizedFourrierTransform import SubsampledRandomizedFourrierTransform\n",
    "srft=SubsampledRandomizedFourrierTransform(k)\n",
    "Y=numpy.asfortranarray(X)\n",
    "PHDX=srft.fit_transform(Y)\n",
    "print(PHDX[0:10][0:10])\n",
    "seconds_elapsed2 = (time.time() - start)\n",
    "seconds_elapsed2"
   ]
  }
 ],
 "metadata": {
  "kernelspec": {
   "display_name": "Python 3",
   "language": "python",
   "name": "python3"
  },
  "language_info": {
   "codemirror_mode": {
    "name": "ipython",
    "version": 3
   },
   "file_extension": ".py",
   "mimetype": "text/x-python",
   "name": "python",
   "nbconvert_exporter": "python",
   "pygments_lexer": "ipython3",
   "version": "3.6.0"
  }
 },
 "nbformat": 4,
 "nbformat_minor": 1
}
