{
 "cells": [
  {
   "cell_type": "markdown",
   "metadata": {},
   "source": [
    "# FJLT, Various k = reduced dimension\n",
    "# Details see fjlt.m"
   ]
  },
  {
   "cell_type": "markdown",
   "metadata": {},
   "source": [
    "## k >= 7670\n",
    "## k < d = 33060\n",
    "## fastest for k = 2^13 = 8192"
   ]
  },
  {
   "cell_type": "markdown",
   "metadata": {},
   "source": [
    "# NOTE: delete srft_wisdom from folder"
   ]
  },
  {
   "cell_type": "code",
   "execution_count": 1,
   "metadata": {},
   "outputs": [
    {
     "data": {
      "text/plain": [
       "615.2073631286621"
      ]
     },
     "execution_count": 1,
     "metadata": {},
     "output_type": "execute_result"
    }
   ],
   "source": [
    "import time\n",
    "start = time.time()\n",
    "from openpyxl import Workbook\n",
    "from openpyxl import load_workbook\n",
    "wb=load_workbook('X.xlsx')\n",
    "ws=wb.active\n",
    "d=ws.max_row-1\n",
    "n=ws.max_column\n",
    "import numpy\n",
    "X=numpy.zeros((d,n))\n",
    "i=0\n",
    "j=0\n",
    "while i<d:\n",
    "    while j<n:\n",
    "        X[i][j]=ws.cell(row=i+2,column=j+1).value\n",
    "        j+=1\n",
    "    i+=1\n",
    "seconds_elapsed1 = (time.time() - start)\n",
    "seconds_elapsed1\n",
    "# X is dxn matrix of n songs/vectors of d dimensions each"
   ]
  },
  {
   "cell_type": "code",
   "execution_count": 29,
   "metadata": {},
   "outputs": [
    {
     "name": "stdout",
     "output_type": "stream",
     "text": [
      "wisdom file srft_wisdom not found, starting new file.\n",
      "b'(fftw-3.3.5 fftw_wisdom #x4be12fff #x7b2df9b2 #xa5975329 #x385b0041\\n  (fftw_codelet_r2cf_3 0 #x40 #x40 #x0 #xf37562a5 #x0215bb89 #x9a393656 #xaf50e821)\\n  (fftw_codelet_hf_20 0 #x40 #x40 #x0 #x8417d9eb #x33044136 #x4c51016f #xebf548a2)\\n  (fftw_codelet_r2cf_20 0 #x40 #x40 #x0 #xc850c57a #x45e38b29 #x61f78c0a #x9c663410)\\n  (fftw_codelet_hf_3 0 #x40 #x40 #x0 #x1c2c0e33 #xd25d1adf #xdad99443 #x6abe915c)\\n  (fftw_rdft_generic_register 0 #x40 #x40 #x0 #x0b04d629 #x0296a629 #x35e47c7c #x57162e40)\\n  (fftw_rdft_buffered_register 0 #x1040 #x1040 #x0 #xaa37cfd8 #xaf450f73 #xbbdb0ca2 #x8889c2d5)\\n  (fftw_rdft_vrank_geq1_register 0 #x40 #x40 #x0 #x072d7c07 #xf828df6d #x8df07fc0 #xd699f277)\\n  (fftw_hc2hc_generic_register 0 #x40 #x40 #x0 #x2ebafef2 #x83de4d41 #x1edbc5f9 #xb0405a31)\\n  (fftw_rdft_generic_register 0 #x40 #x40 #x0 #x2c17d6b6 #x1c5fb848 #xa05823d7 #x9c2ae855)\\n  (fftw_rdft_vrank_geq1_register 0 #x40 #x40 #x0 #xb0118543 #xa9d3b266 #x3d8926ec #x9c020173)\\n  (fftw_reodft010e_r2hc_register 0 #x1040 #x1040 #x0 #x77b3bd3c #xac8d833f #xd503d536 #x64e40ec0)\\n  (fftw_rdft_vrank_geq1_register 0 #x40 #x40 #x0 #x64fae67c #x240f2c07 #x2e8c27a8 #x34bb2a58)\\n  (fftw_rdft_nop_register 0 #x40 #x40 #x0 #xd0702255 #xe76a9ab3 #x5398ff07 #x60ee718e)\\n  (fftw_codelet_r2cfII_3 0 #x40 #x40 #x0 #xe588b749 #x38d92a2a #xc042a349 #x4e31c2d7)\\n  (fftw_rdft_vrank_geq1_register 0 #x40 #x40 #x0 #x71709097 #xbbb5a38e #xdb73bde7 #x7088c6d5)\\n  (fftw_rdft_rank0_register 0 #x1040 #x1040 #x0 #xbe41cfaa #xb286bf61 #x12bfe21e #x218c249d)\\n  (fftw_rdft_vrank_geq1_register 1 #x40 #x40 #x0 #x9583b4be #x6dce9500 #xd4eff269 #xb790d7b0)\\n  (fftw_rdft_nop_register 0 #x1040 #x1040 #x0 #x9e7124f3 #x33a05b09 #x2e1037fb #xafb4783d)\\n)\\n'\n"
     ]
    },
    {
     "data": {
      "text/plain": [
       "494.8786599636078"
      ]
     },
     "execution_count": 29,
     "metadata": {},
     "output_type": "execute_result"
    }
   ],
   "source": [
    "start = time.time()\n",
    "k=7670\n",
    "from fjlt.SubsampledRandomizedFourrierTransform import SubsampledRandomizedFourrierTransform\n",
    "srft=SubsampledRandomizedFourrierTransform(k)\n",
    "Y=numpy.asfortranarray(X)\n",
    "PHDX=srft.fit_transform(Y)\n",
    "wb=Workbook()\n",
    "ws=wb.active\n",
    "i=0\n",
    "while i<k:\n",
    "    j=0\n",
    "    while j<n:\n",
    "        ws.cell(row=i+1,column=j+1).value=PHDX[i][j]\n",
    "        j+=1\n",
    "    i+=1\n",
    "wb.save(\"fjltmfccvecs\"+str(k)+\".xlsx\")\n",
    "seconds_elapsed2 = (time.time() - start)\n",
    "seconds_elapsed2"
   ]
  },
  {
   "cell_type": "code",
   "execution_count": 30,
   "metadata": {},
   "outputs": [
    {
     "name": "stdout",
     "output_type": "stream",
     "text": [
      "wisdom file srft_wisdom not found, starting new file.\n",
      "b'(fftw-3.3.5 fftw_wisdom #x4be12fff #x7b2df9b2 #xa5975329 #x385b0041\\n  (fftw_codelet_r2cf_3 0 #x40 #x40 #x0 #xf37562a5 #x0215bb89 #x9a393656 #xaf50e821)\\n  (fftw_codelet_hf_20 0 #x40 #x40 #x0 #x8417d9eb #x33044136 #x4c51016f #xebf548a2)\\n  (fftw_codelet_r2cf_20 0 #x40 #x40 #x0 #xc850c57a #x45e38b29 #x61f78c0a #x9c663410)\\n  (fftw_codelet_hf_3 0 #x40 #x40 #x0 #x1c2c0e33 #xd25d1adf #xdad99443 #x6abe915c)\\n  (fftw_rdft_generic_register 0 #x40 #x40 #x0 #x0b04d629 #x0296a629 #x35e47c7c #x57162e40)\\n  (fftw_rdft_buffered_register 0 #x1040 #x1040 #x0 #xaa37cfd8 #xaf450f73 #xbbdb0ca2 #x8889c2d5)\\n  (fftw_rdft_vrank_geq1_register 0 #x40 #x40 #x0 #x072d7c07 #xf828df6d #x8df07fc0 #xd699f277)\\n  (fftw_hc2hc_generic_register 0 #x40 #x40 #x0 #x2ebafef2 #x83de4d41 #x1edbc5f9 #xb0405a31)\\n  (fftw_rdft_generic_register 0 #x40 #x40 #x0 #x2c17d6b6 #x1c5fb848 #xa05823d7 #x9c2ae855)\\n  (fftw_rdft_vrank_geq1_register 0 #x40 #x40 #x0 #xb0118543 #xa9d3b266 #x3d8926ec #x9c020173)\\n  (fftw_reodft010e_r2hc_register 0 #x1040 #x1040 #x0 #x77b3bd3c #xac8d833f #xd503d536 #x64e40ec0)\\n  (fftw_rdft_vrank_geq1_register 0 #x40 #x40 #x0 #x64fae67c #x240f2c07 #x2e8c27a8 #x34bb2a58)\\n  (fftw_rdft_nop_register 0 #x40 #x40 #x0 #xd0702255 #xe76a9ab3 #x5398ff07 #x60ee718e)\\n  (fftw_codelet_r2cfII_3 0 #x40 #x40 #x0 #xe588b749 #x38d92a2a #xc042a349 #x4e31c2d7)\\n  (fftw_rdft_vrank_geq1_register 0 #x40 #x40 #x0 #x71709097 #xbbb5a38e #xdb73bde7 #x7088c6d5)\\n  (fftw_rdft_rank0_register 0 #x1040 #x1040 #x0 #xbe41cfaa #xb286bf61 #x12bfe21e #x218c249d)\\n  (fftw_rdft_vrank_geq1_register 1 #x40 #x40 #x0 #x9583b4be #x6dce9500 #xd4eff269 #xb790d7b0)\\n  (fftw_rdft_nop_register 0 #x1040 #x1040 #x0 #x9e7124f3 #x33a05b09 #x2e1037fb #xafb4783d)\\n)\\n'\n",
      "wisdom file srft_wisdom not found, starting new file.\n",
      "b'(fftw-3.3.5 fftw_wisdom #x4be12fff #x7b2df9b2 #xa5975329 #x385b0041\\n  (fftw_codelet_r2cf_3 0 #x40 #x40 #x0 #xf37562a5 #x0215bb89 #x9a393656 #xaf50e821)\\n  (fftw_codelet_hf_20 0 #x40 #x40 #x0 #x8417d9eb #x33044136 #x4c51016f #xebf548a2)\\n  (fftw_codelet_r2cf_20 0 #x40 #x40 #x0 #xc850c57a #x45e38b29 #x61f78c0a #x9c663410)\\n  (fftw_codelet_hf_3 0 #x40 #x40 #x0 #x1c2c0e33 #xd25d1adf #xdad99443 #x6abe915c)\\n  (fftw_rdft_generic_register 0 #x40 #x40 #x0 #x0b04d629 #x0296a629 #x35e47c7c #x57162e40)\\n  (fftw_rdft_buffered_register 0 #x1040 #x1040 #x0 #xaa37cfd8 #xaf450f73 #xbbdb0ca2 #x8889c2d5)\\n  (fftw_rdft_vrank_geq1_register 0 #x40 #x40 #x0 #x072d7c07 #xf828df6d #x8df07fc0 #xd699f277)\\n  (fftw_hc2hc_generic_register 0 #x40 #x40 #x0 #x2ebafef2 #x83de4d41 #x1edbc5f9 #xb0405a31)\\n  (fftw_rdft_generic_register 0 #x40 #x40 #x0 #x2c17d6b6 #x1c5fb848 #xa05823d7 #x9c2ae855)\\n  (fftw_rdft_vrank_geq1_register 0 #x40 #x40 #x0 #xb0118543 #xa9d3b266 #x3d8926ec #x9c020173)\\n  (fftw_reodft010e_r2hc_register 0 #x1040 #x1040 #x0 #x77b3bd3c #xac8d833f #xd503d536 #x64e40ec0)\\n  (fftw_rdft_vrank_geq1_register 0 #x40 #x40 #x0 #x64fae67c #x240f2c07 #x2e8c27a8 #x34bb2a58)\\n  (fftw_rdft_nop_register 0 #x40 #x40 #x0 #xd0702255 #xe76a9ab3 #x5398ff07 #x60ee718e)\\n  (fftw_codelet_r2cfII_3 0 #x40 #x40 #x0 #xe588b749 #x38d92a2a #xc042a349 #x4e31c2d7)\\n  (fftw_rdft_vrank_geq1_register 0 #x40 #x40 #x0 #x71709097 #xbbb5a38e #xdb73bde7 #x7088c6d5)\\n  (fftw_rdft_rank0_register 0 #x1040 #x1040 #x0 #xbe41cfaa #xb286bf61 #x12bfe21e #x218c249d)\\n  (fftw_rdft_vrank_geq1_register 1 #x40 #x40 #x0 #x9583b4be #x6dce9500 #xd4eff269 #xb790d7b0)\\n  (fftw_rdft_nop_register 0 #x1040 #x1040 #x0 #x9e7124f3 #x33a05b09 #x2e1037fb #xafb4783d)\\n)\\n'\n",
      "wisdom file srft_wisdom not found, starting new file.\n",
      "b'(fftw-3.3.5 fftw_wisdom #x4be12fff #x7b2df9b2 #xa5975329 #x385b0041\\n  (fftw_codelet_r2cf_3 0 #x40 #x40 #x0 #xf37562a5 #x0215bb89 #x9a393656 #xaf50e821)\\n  (fftw_codelet_hf_20 0 #x40 #x40 #x0 #x8417d9eb #x33044136 #x4c51016f #xebf548a2)\\n  (fftw_codelet_r2cf_20 0 #x40 #x40 #x0 #xc850c57a #x45e38b29 #x61f78c0a #x9c663410)\\n  (fftw_codelet_hf_3 0 #x40 #x40 #x0 #x1c2c0e33 #xd25d1adf #xdad99443 #x6abe915c)\\n  (fftw_rdft_generic_register 0 #x40 #x40 #x0 #x0b04d629 #x0296a629 #x35e47c7c #x57162e40)\\n  (fftw_rdft_buffered_register 0 #x1040 #x1040 #x0 #xaa37cfd8 #xaf450f73 #xbbdb0ca2 #x8889c2d5)\\n  (fftw_rdft_vrank_geq1_register 0 #x40 #x40 #x0 #x072d7c07 #xf828df6d #x8df07fc0 #xd699f277)\\n  (fftw_hc2hc_generic_register 0 #x40 #x40 #x0 #x2ebafef2 #x83de4d41 #x1edbc5f9 #xb0405a31)\\n  (fftw_rdft_generic_register 0 #x40 #x40 #x0 #x2c17d6b6 #x1c5fb848 #xa05823d7 #x9c2ae855)\\n  (fftw_rdft_vrank_geq1_register 0 #x40 #x40 #x0 #xb0118543 #xa9d3b266 #x3d8926ec #x9c020173)\\n  (fftw_reodft010e_r2hc_register 0 #x1040 #x1040 #x0 #x77b3bd3c #xac8d833f #xd503d536 #x64e40ec0)\\n  (fftw_rdft_vrank_geq1_register 0 #x40 #x40 #x0 #x64fae67c #x240f2c07 #x2e8c27a8 #x34bb2a58)\\n  (fftw_rdft_nop_register 0 #x40 #x40 #x0 #xd0702255 #xe76a9ab3 #x5398ff07 #x60ee718e)\\n  (fftw_codelet_r2cfII_3 0 #x40 #x40 #x0 #xe588b749 #x38d92a2a #xc042a349 #x4e31c2d7)\\n  (fftw_rdft_vrank_geq1_register 0 #x40 #x40 #x0 #x71709097 #xbbb5a38e #xdb73bde7 #x7088c6d5)\\n  (fftw_rdft_rank0_register 0 #x1040 #x1040 #x0 #xbe41cfaa #xb286bf61 #x12bfe21e #x218c249d)\\n  (fftw_rdft_vrank_geq1_register 1 #x40 #x40 #x0 #x9583b4be #x6dce9500 #xd4eff269 #xb790d7b0)\\n  (fftw_rdft_nop_register 0 #x1040 #x1040 #x0 #x9e7124f3 #x33a05b09 #x2e1037fb #xafb4783d)\\n)\\n'\n",
      "wisdom file srft_wisdom not found, starting new file.\n",
      "b'(fftw-3.3.5 fftw_wisdom #x4be12fff #x7b2df9b2 #xa5975329 #x385b0041\\n  (fftw_codelet_r2cf_3 0 #x40 #x40 #x0 #xf37562a5 #x0215bb89 #x9a393656 #xaf50e821)\\n  (fftw_codelet_hf_20 0 #x40 #x40 #x0 #x8417d9eb #x33044136 #x4c51016f #xebf548a2)\\n  (fftw_codelet_r2cf_20 0 #x40 #x40 #x0 #xc850c57a #x45e38b29 #x61f78c0a #x9c663410)\\n  (fftw_codelet_hf_3 0 #x40 #x40 #x0 #x1c2c0e33 #xd25d1adf #xdad99443 #x6abe915c)\\n  (fftw_rdft_generic_register 0 #x40 #x40 #x0 #x0b04d629 #x0296a629 #x35e47c7c #x57162e40)\\n  (fftw_rdft_buffered_register 0 #x1040 #x1040 #x0 #xaa37cfd8 #xaf450f73 #xbbdb0ca2 #x8889c2d5)\\n  (fftw_rdft_vrank_geq1_register 0 #x40 #x40 #x0 #x072d7c07 #xf828df6d #x8df07fc0 #xd699f277)\\n  (fftw_hc2hc_generic_register 0 #x40 #x40 #x0 #x2ebafef2 #x83de4d41 #x1edbc5f9 #xb0405a31)\\n  (fftw_rdft_generic_register 0 #x40 #x40 #x0 #x2c17d6b6 #x1c5fb848 #xa05823d7 #x9c2ae855)\\n  (fftw_rdft_vrank_geq1_register 0 #x40 #x40 #x0 #xb0118543 #xa9d3b266 #x3d8926ec #x9c020173)\\n  (fftw_reodft010e_r2hc_register 0 #x1040 #x1040 #x0 #x77b3bd3c #xac8d833f #xd503d536 #x64e40ec0)\\n  (fftw_rdft_vrank_geq1_register 0 #x40 #x40 #x0 #x64fae67c #x240f2c07 #x2e8c27a8 #x34bb2a58)\\n  (fftw_rdft_nop_register 0 #x40 #x40 #x0 #xd0702255 #xe76a9ab3 #x5398ff07 #x60ee718e)\\n  (fftw_codelet_r2cfII_3 0 #x40 #x40 #x0 #xe588b749 #x38d92a2a #xc042a349 #x4e31c2d7)\\n  (fftw_rdft_vrank_geq1_register 0 #x40 #x40 #x0 #x71709097 #xbbb5a38e #xdb73bde7 #x7088c6d5)\\n  (fftw_rdft_rank0_register 0 #x1040 #x1040 #x0 #xbe41cfaa #xb286bf61 #x12bfe21e #x218c249d)\\n  (fftw_rdft_vrank_geq1_register 1 #x40 #x40 #x0 #x9583b4be #x6dce9500 #xd4eff269 #xb790d7b0)\\n  (fftw_rdft_nop_register 0 #x1040 #x1040 #x0 #x9e7124f3 #x33a05b09 #x2e1037fb #xafb4783d)\\n)\\n'\n",
      "wisdom file srft_wisdom not found, starting new file.\n",
      "b'(fftw-3.3.5 fftw_wisdom #x4be12fff #x7b2df9b2 #xa5975329 #x385b0041\\n  (fftw_codelet_r2cf_3 0 #x40 #x40 #x0 #xf37562a5 #x0215bb89 #x9a393656 #xaf50e821)\\n  (fftw_codelet_hf_20 0 #x40 #x40 #x0 #x8417d9eb #x33044136 #x4c51016f #xebf548a2)\\n  (fftw_codelet_r2cf_20 0 #x40 #x40 #x0 #xc850c57a #x45e38b29 #x61f78c0a #x9c663410)\\n  (fftw_codelet_hf_3 0 #x40 #x40 #x0 #x1c2c0e33 #xd25d1adf #xdad99443 #x6abe915c)\\n  (fftw_rdft_generic_register 0 #x40 #x40 #x0 #x0b04d629 #x0296a629 #x35e47c7c #x57162e40)\\n  (fftw_rdft_buffered_register 0 #x1040 #x1040 #x0 #xaa37cfd8 #xaf450f73 #xbbdb0ca2 #x8889c2d5)\\n  (fftw_rdft_vrank_geq1_register 0 #x40 #x40 #x0 #x072d7c07 #xf828df6d #x8df07fc0 #xd699f277)\\n  (fftw_hc2hc_generic_register 0 #x40 #x40 #x0 #x2ebafef2 #x83de4d41 #x1edbc5f9 #xb0405a31)\\n  (fftw_rdft_generic_register 0 #x40 #x40 #x0 #x2c17d6b6 #x1c5fb848 #xa05823d7 #x9c2ae855)\\n  (fftw_rdft_vrank_geq1_register 0 #x40 #x40 #x0 #xb0118543 #xa9d3b266 #x3d8926ec #x9c020173)\\n  (fftw_reodft010e_r2hc_register 0 #x1040 #x1040 #x0 #x77b3bd3c #xac8d833f #xd503d536 #x64e40ec0)\\n  (fftw_rdft_vrank_geq1_register 0 #x40 #x40 #x0 #x64fae67c #x240f2c07 #x2e8c27a8 #x34bb2a58)\\n  (fftw_rdft_nop_register 0 #x40 #x40 #x0 #xd0702255 #xe76a9ab3 #x5398ff07 #x60ee718e)\\n  (fftw_codelet_r2cfII_3 0 #x40 #x40 #x0 #xe588b749 #x38d92a2a #xc042a349 #x4e31c2d7)\\n  (fftw_rdft_vrank_geq1_register 0 #x40 #x40 #x0 #x71709097 #xbbb5a38e #xdb73bde7 #x7088c6d5)\\n  (fftw_rdft_rank0_register 0 #x1040 #x1040 #x0 #xbe41cfaa #xb286bf61 #x12bfe21e #x218c249d)\\n  (fftw_rdft_vrank_geq1_register 1 #x40 #x40 #x0 #x9583b4be #x6dce9500 #xd4eff269 #xb790d7b0)\\n  (fftw_rdft_nop_register 0 #x1040 #x1040 #x0 #x9e7124f3 #x33a05b09 #x2e1037fb #xafb4783d)\\n)\\n'\n",
      "wisdom file srft_wisdom not found, starting new file.\n",
      "b'(fftw-3.3.5 fftw_wisdom #x4be12fff #x7b2df9b2 #xa5975329 #x385b0041\\n  (fftw_codelet_r2cf_3 0 #x40 #x40 #x0 #xf37562a5 #x0215bb89 #x9a393656 #xaf50e821)\\n  (fftw_codelet_hf_20 0 #x40 #x40 #x0 #x8417d9eb #x33044136 #x4c51016f #xebf548a2)\\n  (fftw_codelet_r2cf_20 0 #x40 #x40 #x0 #xc850c57a #x45e38b29 #x61f78c0a #x9c663410)\\n  (fftw_codelet_hf_3 0 #x40 #x40 #x0 #x1c2c0e33 #xd25d1adf #xdad99443 #x6abe915c)\\n  (fftw_rdft_generic_register 0 #x40 #x40 #x0 #x0b04d629 #x0296a629 #x35e47c7c #x57162e40)\\n  (fftw_rdft_buffered_register 0 #x1040 #x1040 #x0 #xaa37cfd8 #xaf450f73 #xbbdb0ca2 #x8889c2d5)\\n  (fftw_rdft_vrank_geq1_register 0 #x40 #x40 #x0 #x072d7c07 #xf828df6d #x8df07fc0 #xd699f277)\\n  (fftw_hc2hc_generic_register 0 #x40 #x40 #x0 #x2ebafef2 #x83de4d41 #x1edbc5f9 #xb0405a31)\\n  (fftw_rdft_generic_register 0 #x40 #x40 #x0 #x2c17d6b6 #x1c5fb848 #xa05823d7 #x9c2ae855)\\n  (fftw_rdft_vrank_geq1_register 0 #x40 #x40 #x0 #xb0118543 #xa9d3b266 #x3d8926ec #x9c020173)\\n  (fftw_reodft010e_r2hc_register 0 #x1040 #x1040 #x0 #x77b3bd3c #xac8d833f #xd503d536 #x64e40ec0)\\n  (fftw_rdft_vrank_geq1_register 0 #x40 #x40 #x0 #x64fae67c #x240f2c07 #x2e8c27a8 #x34bb2a58)\\n  (fftw_rdft_nop_register 0 #x40 #x40 #x0 #xd0702255 #xe76a9ab3 #x5398ff07 #x60ee718e)\\n  (fftw_codelet_r2cfII_3 0 #x40 #x40 #x0 #xe588b749 #x38d92a2a #xc042a349 #x4e31c2d7)\\n  (fftw_rdft_vrank_geq1_register 0 #x40 #x40 #x0 #x71709097 #xbbb5a38e #xdb73bde7 #x7088c6d5)\\n  (fftw_rdft_rank0_register 0 #x1040 #x1040 #x0 #xbe41cfaa #xb286bf61 #x12bfe21e #x218c249d)\\n  (fftw_rdft_vrank_geq1_register 1 #x40 #x40 #x0 #x9583b4be #x6dce9500 #xd4eff269 #xb790d7b0)\\n  (fftw_rdft_nop_register 0 #x1040 #x1040 #x0 #x9e7124f3 #x33a05b09 #x2e1037fb #xafb4783d)\\n)\\n'\n",
      "wisdom file srft_wisdom not found, starting new file.\n",
      "b'(fftw-3.3.5 fftw_wisdom #x4be12fff #x7b2df9b2 #xa5975329 #x385b0041\\n  (fftw_codelet_r2cf_3 0 #x40 #x40 #x0 #xf37562a5 #x0215bb89 #x9a393656 #xaf50e821)\\n  (fftw_codelet_hf_20 0 #x40 #x40 #x0 #x8417d9eb #x33044136 #x4c51016f #xebf548a2)\\n  (fftw_codelet_r2cf_20 0 #x40 #x40 #x0 #xc850c57a #x45e38b29 #x61f78c0a #x9c663410)\\n  (fftw_codelet_hf_3 0 #x40 #x40 #x0 #x1c2c0e33 #xd25d1adf #xdad99443 #x6abe915c)\\n  (fftw_rdft_generic_register 0 #x40 #x40 #x0 #x0b04d629 #x0296a629 #x35e47c7c #x57162e40)\\n  (fftw_rdft_buffered_register 0 #x1040 #x1040 #x0 #xaa37cfd8 #xaf450f73 #xbbdb0ca2 #x8889c2d5)\\n  (fftw_rdft_vrank_geq1_register 0 #x40 #x40 #x0 #x072d7c07 #xf828df6d #x8df07fc0 #xd699f277)\\n  (fftw_hc2hc_generic_register 0 #x40 #x40 #x0 #x2ebafef2 #x83de4d41 #x1edbc5f9 #xb0405a31)\\n  (fftw_rdft_generic_register 0 #x40 #x40 #x0 #x2c17d6b6 #x1c5fb848 #xa05823d7 #x9c2ae855)\\n  (fftw_rdft_vrank_geq1_register 0 #x40 #x40 #x0 #xb0118543 #xa9d3b266 #x3d8926ec #x9c020173)\\n  (fftw_reodft010e_r2hc_register 0 #x1040 #x1040 #x0 #x77b3bd3c #xac8d833f #xd503d536 #x64e40ec0)\\n  (fftw_rdft_vrank_geq1_register 0 #x40 #x40 #x0 #x64fae67c #x240f2c07 #x2e8c27a8 #x34bb2a58)\\n  (fftw_rdft_nop_register 0 #x40 #x40 #x0 #xd0702255 #xe76a9ab3 #x5398ff07 #x60ee718e)\\n  (fftw_codelet_r2cfII_3 0 #x40 #x40 #x0 #xe588b749 #x38d92a2a #xc042a349 #x4e31c2d7)\\n  (fftw_rdft_vrank_geq1_register 0 #x40 #x40 #x0 #x71709097 #xbbb5a38e #xdb73bde7 #x7088c6d5)\\n  (fftw_rdft_rank0_register 0 #x1040 #x1040 #x0 #xbe41cfaa #xb286bf61 #x12bfe21e #x218c249d)\\n  (fftw_rdft_vrank_geq1_register 1 #x40 #x40 #x0 #x9583b4be #x6dce9500 #xd4eff269 #xb790d7b0)\\n  (fftw_rdft_nop_register 0 #x1040 #x1040 #x0 #x9e7124f3 #x33a05b09 #x2e1037fb #xafb4783d)\\n)\\n'\n",
      "wisdom file srft_wisdom not found, starting new file.\n",
      "b'(fftw-3.3.5 fftw_wisdom #x4be12fff #x7b2df9b2 #xa5975329 #x385b0041\\n  (fftw_codelet_r2cf_3 0 #x40 #x40 #x0 #xf37562a5 #x0215bb89 #x9a393656 #xaf50e821)\\n  (fftw_codelet_hf_20 0 #x40 #x40 #x0 #x8417d9eb #x33044136 #x4c51016f #xebf548a2)\\n  (fftw_codelet_r2cf_20 0 #x40 #x40 #x0 #xc850c57a #x45e38b29 #x61f78c0a #x9c663410)\\n  (fftw_codelet_hf_3 0 #x40 #x40 #x0 #x1c2c0e33 #xd25d1adf #xdad99443 #x6abe915c)\\n  (fftw_rdft_generic_register 0 #x40 #x40 #x0 #x0b04d629 #x0296a629 #x35e47c7c #x57162e40)\\n  (fftw_rdft_buffered_register 0 #x1040 #x1040 #x0 #xaa37cfd8 #xaf450f73 #xbbdb0ca2 #x8889c2d5)\\n  (fftw_rdft_vrank_geq1_register 0 #x40 #x40 #x0 #x072d7c07 #xf828df6d #x8df07fc0 #xd699f277)\\n  (fftw_hc2hc_generic_register 0 #x40 #x40 #x0 #x2ebafef2 #x83de4d41 #x1edbc5f9 #xb0405a31)\\n  (fftw_rdft_generic_register 0 #x40 #x40 #x0 #x2c17d6b6 #x1c5fb848 #xa05823d7 #x9c2ae855)\\n  (fftw_rdft_vrank_geq1_register 0 #x40 #x40 #x0 #xb0118543 #xa9d3b266 #x3d8926ec #x9c020173)\\n  (fftw_reodft010e_r2hc_register 0 #x1040 #x1040 #x0 #x77b3bd3c #xac8d833f #xd503d536 #x64e40ec0)\\n  (fftw_rdft_vrank_geq1_register 0 #x40 #x40 #x0 #x64fae67c #x240f2c07 #x2e8c27a8 #x34bb2a58)\\n  (fftw_rdft_nop_register 0 #x40 #x40 #x0 #xd0702255 #xe76a9ab3 #x5398ff07 #x60ee718e)\\n  (fftw_codelet_r2cfII_3 0 #x40 #x40 #x0 #xe588b749 #x38d92a2a #xc042a349 #x4e31c2d7)\\n  (fftw_rdft_vrank_geq1_register 0 #x40 #x40 #x0 #x71709097 #xbbb5a38e #xdb73bde7 #x7088c6d5)\\n  (fftw_rdft_rank0_register 0 #x1040 #x1040 #x0 #xbe41cfaa #xb286bf61 #x12bfe21e #x218c249d)\\n  (fftw_rdft_vrank_geq1_register 1 #x40 #x40 #x0 #x9583b4be #x6dce9500 #xd4eff269 #xb790d7b0)\\n  (fftw_rdft_nop_register 0 #x1040 #x1040 #x0 #x9e7124f3 #x33a05b09 #x2e1037fb #xafb4783d)\\n)\\n'\n",
      "wisdom file srft_wisdom not found, starting new file.\n",
      "b'(fftw-3.3.5 fftw_wisdom #x4be12fff #x7b2df9b2 #xa5975329 #x385b0041\\n  (fftw_codelet_r2cf_3 0 #x40 #x40 #x0 #xf37562a5 #x0215bb89 #x9a393656 #xaf50e821)\\n  (fftw_codelet_hf_20 0 #x40 #x40 #x0 #x8417d9eb #x33044136 #x4c51016f #xebf548a2)\\n  (fftw_codelet_r2cf_20 0 #x40 #x40 #x0 #xc850c57a #x45e38b29 #x61f78c0a #x9c663410)\\n  (fftw_codelet_hf_3 0 #x40 #x40 #x0 #x1c2c0e33 #xd25d1adf #xdad99443 #x6abe915c)\\n  (fftw_rdft_generic_register 0 #x40 #x40 #x0 #x0b04d629 #x0296a629 #x35e47c7c #x57162e40)\\n  (fftw_rdft_buffered_register 0 #x1040 #x1040 #x0 #xaa37cfd8 #xaf450f73 #xbbdb0ca2 #x8889c2d5)\\n  (fftw_rdft_vrank_geq1_register 0 #x40 #x40 #x0 #x072d7c07 #xf828df6d #x8df07fc0 #xd699f277)\\n  (fftw_hc2hc_generic_register 0 #x40 #x40 #x0 #x2ebafef2 #x83de4d41 #x1edbc5f9 #xb0405a31)\\n  (fftw_rdft_generic_register 0 #x40 #x40 #x0 #x2c17d6b6 #x1c5fb848 #xa05823d7 #x9c2ae855)\\n  (fftw_rdft_vrank_geq1_register 0 #x40 #x40 #x0 #xb0118543 #xa9d3b266 #x3d8926ec #x9c020173)\\n  (fftw_reodft010e_r2hc_register 0 #x1040 #x1040 #x0 #x77b3bd3c #xac8d833f #xd503d536 #x64e40ec0)\\n  (fftw_rdft_vrank_geq1_register 0 #x40 #x40 #x0 #x64fae67c #x240f2c07 #x2e8c27a8 #x34bb2a58)\\n  (fftw_rdft_nop_register 0 #x40 #x40 #x0 #xd0702255 #xe76a9ab3 #x5398ff07 #x60ee718e)\\n  (fftw_codelet_r2cfII_3 0 #x40 #x40 #x0 #xe588b749 #x38d92a2a #xc042a349 #x4e31c2d7)\\n  (fftw_rdft_vrank_geq1_register 0 #x40 #x40 #x0 #x71709097 #xbbb5a38e #xdb73bde7 #x7088c6d5)\\n  (fftw_rdft_rank0_register 0 #x1040 #x1040 #x0 #xbe41cfaa #xb286bf61 #x12bfe21e #x218c249d)\\n  (fftw_rdft_vrank_geq1_register 1 #x40 #x40 #x0 #x9583b4be #x6dce9500 #xd4eff269 #xb790d7b0)\\n  (fftw_rdft_nop_register 0 #x1040 #x1040 #x0 #x9e7124f3 #x33a05b09 #x2e1037fb #xafb4783d)\\n)\\n'\n"
     ]
    },
    {
     "data": {
      "text/plain": [
       "4819.619710922241"
      ]
     },
     "execution_count": 30,
     "metadata": {},
     "output_type": "execute_result"
    }
   ],
   "source": [
    "start = time.time()\n",
    "k=8570\n",
    "while k<16386:\n",
    "    import os\n",
    "    os.remove('srft_wisdom')\n",
    "    from fjlt.SubsampledRandomizedFourrierTransform import SubsampledRandomizedFourrierTransform\n",
    "    srft=SubsampledRandomizedFourrierTransform(k)\n",
    "    PHDX=srft.fit_transform(Y)\n",
    "    wb=Workbook()\n",
    "    ws=wb.active\n",
    "    i=0\n",
    "    while i<k:\n",
    "        j=0\n",
    "        while j<n:\n",
    "            ws.cell(row=i+1,column=j+1).value=PHDX[i][j]\n",
    "            j+=1\n",
    "        i+=1\n",
    "    wb.save(\"fjltmfccvecs\"+str(k)+\".xlsx\")\n",
    "    k+=900\n",
    "seconds_elapsed3 = (time.time() - start)\n",
    "seconds_elapsed3\n",
    "# fjltmfccvecsk.xlsx is kxn matrix of n songs/vectors of k dimensions each"
   ]
  },
  {
   "cell_type": "code",
   "execution_count": 32,
   "metadata": {},
   "outputs": [
    {
     "name": "stdout",
     "output_type": "stream",
     "text": [
      "computation time = 98.82842890024185 minutes\n"
     ]
    }
   ],
   "source": [
    "mins_elapsed = (seconds_elapsed1+seconds_elapsed2+seconds_elapsed3)/60\n",
    "print('computation time = '+str(mins_elapsed)+' minutes')"
   ]
  },
  {
   "cell_type": "markdown",
   "metadata": {
    "collapsed": true
   },
   "source": [
    "# k <= 4096:"
   ]
  },
  {
   "cell_type": "code",
   "execution_count": 6,
   "metadata": {},
   "outputs": [
    {
     "data": {
      "text/plain": [
       "747.9735748767853"
      ]
     },
     "execution_count": 6,
     "metadata": {},
     "output_type": "execute_result"
    }
   ],
   "source": [
    "import time\n",
    "start = time.time()\n",
    "from openpyxl import Workbook\n",
    "from openpyxl import load_workbook\n",
    "wb=load_workbook('X.xlsx')\n",
    "ws=wb.active\n",
    "d=ws.max_row-1\n",
    "n=ws.max_column\n",
    "import numpy\n",
    "X=numpy.zeros((d,n))\n",
    "i=0\n",
    "j=0\n",
    "while i<d:\n",
    "    while j<n:\n",
    "        X[i][j]=ws.cell(row=i+2,column=j+1).value\n",
    "        j+=1\n",
    "    i+=1\n",
    "seconds_elapsed1 = (time.time() - start)\n",
    "seconds_elapsed1\n",
    "# X is dxn matrix of n songs/vectors of d dimensions each"
   ]
  },
  {
   "cell_type": "code",
   "execution_count": 8,
   "metadata": {},
   "outputs": [
    {
     "name": "stdout",
     "output_type": "stream",
     "text": [
      "wisdom file srft_wisdom not found, starting new file.\n"
     ]
    },
    {
     "data": {
      "text/plain": [
       "33.66698884963989"
      ]
     },
     "execution_count": 8,
     "metadata": {},
     "output_type": "execute_result"
    }
   ],
   "source": [
    "start = time.time()\n",
    "kvals=numpy.array([256, 512, 1024, 2048, 3000, 4096])\n",
    "ki=0\n",
    "k=kvals[ki]\n",
    "from fjlt.SubsampledRandomizedFourrierTransform import SubsampledRandomizedFourrierTransform\n",
    "srft=SubsampledRandomizedFourrierTransform(k)\n",
    "Y=numpy.asfortranarray(X)\n",
    "PHDX=srft.fit_transform(Y)\n",
    "wb=Workbook()\n",
    "ws=wb.active\n",
    "i=0\n",
    "while i<k:\n",
    "    j=0\n",
    "    while j<n:\n",
    "        ws.cell(row=i+1,column=j+1).value=PHDX[i][j]\n",
    "        j+=1\n",
    "    i+=1\n",
    "wb.save(\"fjltmfccvecs\"+str(k)+\".xlsx\")\n",
    "seconds_elapsed2 = (time.time() - start)\n",
    "seconds_elapsed2"
   ]
  },
  {
   "cell_type": "code",
   "execution_count": null,
   "metadata": {},
   "outputs": [
    {
     "name": "stdout",
     "output_type": "stream",
     "text": [
      "wisdom file srft_wisdom not found, starting new file.\n",
      "b'(fftw-3.3.5 fftw_wisdom #x4be12fff #x7b2df9b2 #xa5975329 #x385b0041\\n  (fftw_codelet_r2cf_15 0 #x40 #x40 #x0 #x7eafd278 #x53e0cc22 #x75db75e0 #x0687933c)\\n  (fftw_rdft_buffered_register 0 #x1040 #x1040 #x0 #xaa37cfd8 #xaf450f73 #xbbdb0ca2 #x8889c2d5)\\n  (fftw_codelet_hf_4 0 #x40 #x40 #x0 #x1c2c0e33 #xd25d1adf #xdad99443 #x6abe915c)\\n  (fftw_rdft_nop_register 0 #x40 #x40 #x0 #xd0702255 #xe76a9ab3 #x5398ff07 #x60ee718e)\\n  (fftw_codelet_r2cf_4 0 #x40 #x40 #x0 #x4043faa6 #x05bfc7e0 #x3c3f3e40 #x40f7d8d7)\\n  (fftw_rdft_vrank_geq1_register 0 #x40 #x40 #x0 #x15063ecd #xd3a12c74 #xc7028f05 #xf88e7ebc)\\n  (fftw_hc2hc_generic_register 0 #x40 #x40 #x0 #x9f24b46e #xee25f8ed #x7412c2db #x0c96b2c8)\\n  (fftw_rdft_vrank_geq1_register 0 #x40 #x40 #x0 #xadf8081c #x60f16915 #xd2bd05eb #x19e30502)\\n  (fftw_rdft_vrank_geq1_register 0 #x40 #x40 #x0 #xfa4c68c7 #xc6e12dc5 #xaa2cd0bb #xd1848ce3)\\n  (fftw_rdft_generic_register 0 #x40 #x40 #x0 #x2c17d6b6 #x1c5fb848 #xa05823d7 #x9c2ae855)\\n  (fftw_rdft_generic_register 0 #x40 #x40 #x0 #x0b04d629 #x0296a629 #x35e47c7c #x57162e40)\\n  (fftw_rdft_vrank_geq1_register 0 #x40 #x40 #x0 #xcc1ddf99 #x0f8366f4 #x59cc67b0 #x2c9440df)\\n  (fftw_reodft010e_r2hc_register 0 #x1040 #x1040 #x0 #x77b3bd3c #xac8d833f #xd503d536 #x64e40ec0)\\n  (fftw_rdft_vrank_geq1_register 0 #x40 #x40 #x0 #x828561ef #x4129e187 #x6430068e #xba110337)\\n  (fftw_codelet_hf_15 0 #x40 #x40 #x0 #xc28cf717 #xac3aa593 #x851ca524 #xaafa2408)\\n  (fftw_rdft_nop_register 0 #x1040 #x1040 #x0 #x9e7124f3 #x33a05b09 #x2e1037fb #xafb4783d)\\n  (fftw_rdft_rank0_register 0 #x1040 #x1040 #x0 #xbe41cfaa #xb286bf61 #x12bfe21e #x218c249d)\\n  (fftw_rdft_vrank_geq1_register 0 #x40 #x40 #x0 #xaa0669ee #x393759c3 #x9e818b16 #xc75ac42a)\\n)\\n'\n",
      "b'(fftw-3.3.5 fftw_wisdom #x4be12fff #x7b2df9b2 #xa5975329 #x385b0041\\n  (fftw_codelet_r2cf_15 0 #x40 #x40 #x0 #x7eafd278 #x53e0cc22 #x75db75e0 #x0687933c)\\n  (fftw_rdft_buffered_register 0 #x1040 #x1040 #x0 #xaa37cfd8 #xaf450f73 #xbbdb0ca2 #x8889c2d5)\\n  (fftw_codelet_hf_4 0 #x40 #x40 #x0 #x1c2c0e33 #xd25d1adf #xdad99443 #x6abe915c)\\n  (fftw_rdft_nop_register 0 #x40 #x40 #x0 #xd0702255 #xe76a9ab3 #x5398ff07 #x60ee718e)\\n  (fftw_codelet_r2cf_4 0 #x40 #x40 #x0 #x4043faa6 #x05bfc7e0 #x3c3f3e40 #x40f7d8d7)\\n  (fftw_rdft_vrank_geq1_register 0 #x40 #x40 #x0 #x15063ecd #xd3a12c74 #xc7028f05 #xf88e7ebc)\\n  (fftw_hc2hc_generic_register 0 #x40 #x40 #x0 #x9f24b46e #xee25f8ed #x7412c2db #x0c96b2c8)\\n  (fftw_rdft_vrank_geq1_register 0 #x40 #x40 #x0 #xadf8081c #x60f16915 #xd2bd05eb #x19e30502)\\n  (fftw_rdft_vrank_geq1_register 0 #x40 #x40 #x0 #xfa4c68c7 #xc6e12dc5 #xaa2cd0bb #xd1848ce3)\\n  (fftw_rdft_generic_register 0 #x40 #x40 #x0 #x2c17d6b6 #x1c5fb848 #xa05823d7 #x9c2ae855)\\n  (fftw_rdft_generic_register 0 #x40 #x40 #x0 #x0b04d629 #x0296a629 #x35e47c7c #x57162e40)\\n  (fftw_rdft_vrank_geq1_register 0 #x40 #x40 #x0 #xcc1ddf99 #x0f8366f4 #x59cc67b0 #x2c9440df)\\n  (fftw_reodft010e_r2hc_register 0 #x1040 #x1040 #x0 #x77b3bd3c #xac8d833f #xd503d536 #x64e40ec0)\\n  (fftw_rdft_vrank_geq1_register 0 #x40 #x40 #x0 #x828561ef #x4129e187 #x6430068e #xba110337)\\n  (fftw_codelet_hf_15 0 #x40 #x40 #x0 #xc28cf717 #xac3aa593 #x851ca524 #xaafa2408)\\n  (fftw_rdft_nop_register 0 #x1040 #x1040 #x0 #x9e7124f3 #x33a05b09 #x2e1037fb #xafb4783d)\\n  (fftw_rdft_rank0_register 0 #x1040 #x1040 #x0 #xbe41cfaa #xb286bf61 #x12bfe21e #x218c249d)\\n  (fftw_rdft_vrank_geq1_register 0 #x40 #x40 #x0 #xaa0669ee #x393759c3 #x9e818b16 #xc75ac42a)\\n)\\n'\n",
      "b'(fftw-3.3.5 fftw_wisdom #x4be12fff #x7b2df9b2 #xa5975329 #x385b0041\\n  (fftw_codelet_r2cf_15 0 #x40 #x40 #x0 #x7eafd278 #x53e0cc22 #x75db75e0 #x0687933c)\\n  (fftw_rdft_buffered_register 0 #x1040 #x1040 #x0 #xaa37cfd8 #xaf450f73 #xbbdb0ca2 #x8889c2d5)\\n  (fftw_codelet_hf_4 0 #x40 #x40 #x0 #x1c2c0e33 #xd25d1adf #xdad99443 #x6abe915c)\\n  (fftw_rdft_nop_register 0 #x40 #x40 #x0 #xd0702255 #xe76a9ab3 #x5398ff07 #x60ee718e)\\n  (fftw_codelet_r2cf_4 0 #x40 #x40 #x0 #x4043faa6 #x05bfc7e0 #x3c3f3e40 #x40f7d8d7)\\n  (fftw_rdft_vrank_geq1_register 0 #x40 #x40 #x0 #x15063ecd #xd3a12c74 #xc7028f05 #xf88e7ebc)\\n  (fftw_hc2hc_generic_register 0 #x40 #x40 #x0 #x9f24b46e #xee25f8ed #x7412c2db #x0c96b2c8)\\n  (fftw_rdft_vrank_geq1_register 0 #x40 #x40 #x0 #xadf8081c #x60f16915 #xd2bd05eb #x19e30502)\\n  (fftw_rdft_vrank_geq1_register 0 #x40 #x40 #x0 #xfa4c68c7 #xc6e12dc5 #xaa2cd0bb #xd1848ce3)\\n  (fftw_rdft_generic_register 0 #x40 #x40 #x0 #x2c17d6b6 #x1c5fb848 #xa05823d7 #x9c2ae855)\\n  (fftw_rdft_generic_register 0 #x40 #x40 #x0 #x0b04d629 #x0296a629 #x35e47c7c #x57162e40)\\n  (fftw_rdft_vrank_geq1_register 0 #x40 #x40 #x0 #xcc1ddf99 #x0f8366f4 #x59cc67b0 #x2c9440df)\\n  (fftw_reodft010e_r2hc_register 0 #x1040 #x1040 #x0 #x77b3bd3c #xac8d833f #xd503d536 #x64e40ec0)\\n  (fftw_rdft_vrank_geq1_register 0 #x40 #x40 #x0 #x828561ef #x4129e187 #x6430068e #xba110337)\\n  (fftw_codelet_hf_15 0 #x40 #x40 #x0 #xc28cf717 #xac3aa593 #x851ca524 #xaafa2408)\\n  (fftw_rdft_nop_register 0 #x1040 #x1040 #x0 #x9e7124f3 #x33a05b09 #x2e1037fb #xafb4783d)\\n  (fftw_rdft_rank0_register 0 #x1040 #x1040 #x0 #xbe41cfaa #xb286bf61 #x12bfe21e #x218c249d)\\n  (fftw_rdft_vrank_geq1_register 0 #x40 #x40 #x0 #xaa0669ee #x393759c3 #x9e818b16 #xc75ac42a)\\n)\\n'\n"
     ]
    }
   ],
   "source": [
    "start = time.time()\n",
    "ki=1\n",
    "while ki<6:\n",
    "    k=kvals[ki]\n",
    "    import os\n",
    "    #os.remove('srft_wisdom')\n",
    "    from fjlt.SubsampledRandomizedFourrierTransform import SubsampledRandomizedFourrierTransform\n",
    "    srft=SubsampledRandomizedFourrierTransform(k)\n",
    "    PHDX=srft.fit_transform(Y)\n",
    "    wb=Workbook()\n",
    "    ws=wb.active\n",
    "    i=0\n",
    "    while i<k:\n",
    "        j=0\n",
    "        while j<n:\n",
    "            ws.cell(row=i+1,column=j+1).value=PHDX[i][j]\n",
    "            j+=1\n",
    "        i+=1\n",
    "    wb.save(\"fjltmfccvecs\"+str(k)+\".xlsx\")\n",
    "    ki+=1\n",
    "seconds_elapsed3 = (time.time() - start)\n",
    "seconds_elapsed3\n",
    "# fjltmfccvecsk.xlsx is kxn matrix of n songs/vectors of k dimensions each"
   ]
  },
  {
   "cell_type": "code",
   "execution_count": null,
   "metadata": {
    "collapsed": true
   },
   "outputs": [],
   "source": [
    "mins_elapsed = (seconds_elapsed1+seconds_elapsed2+seconds_elapsed3)/60\n",
    "print('computation time = '+str(mins_elapsed)+' minutes')"
   ]
  }
 ],
 "metadata": {
  "kernelspec": {
   "display_name": "Python 3",
   "language": "python",
   "name": "python3"
  },
  "language_info": {
   "codemirror_mode": {
    "name": "ipython",
    "version": 3
   },
   "file_extension": ".py",
   "mimetype": "text/x-python",
   "name": "python",
   "nbconvert_exporter": "python",
   "pygments_lexer": "ipython3",
   "version": "3.6.0"
  }
 },
 "nbformat": 4,
 "nbformat_minor": 1
}
